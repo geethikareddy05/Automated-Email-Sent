{
 "cells": [
  {
   "cell_type": "code",
   "execution_count": 5,
   "id": "63919002",
   "metadata": {},
   "outputs": [],
   "source": [
    "import smtplib\n",
    "from email.mime.text import MIMEText\n",
    "from email.mime.multipart import MIMEMultipart"
   ]
  },
  {
   "cell_type": "code",
   "execution_count": 6,
   "id": "834e98bf",
   "metadata": {},
   "outputs": [],
   "source": [
    "EMAIL_ADDRESS = 'kommageethika95@gmail.com' #'your_email@gmail.com'\n",
    "EMAIL_PASSWORD = 'rxgk urcb rurx kzxm'  #'your_generated_password'\n",
    "SMTP_SERVER = 'smtp.gmail.com'\n",
    "SMTP_PORT = 587"
   ]
  },
  {
   "cell_type": "code",
   "execution_count": 7,
   "id": "c0bd2112",
   "metadata": {},
   "outputs": [],
   "source": [
    "def compose_email(subject, to_email, message):\n",
    "    msg = MIMEMultipart()\n",
    "    msg['From'] = EMAIL_ADDRESS\n",
    "    msg['To'] = ','.join(to_email)\n",
    "    msg['Subject'] = subject\n",
    "\n",
    "    msg.attach(MIMEText(message, 'plain'))\n",
    "    return msg.as_string()"
   ]
  },
  {
   "cell_type": "code",
   "execution_count": 8,
   "id": "ace676d2",
   "metadata": {},
   "outputs": [],
   "source": [
    "def send_email(to_email, subject, message):\n",
    "    try:\n",
    "        server = smtplib.SMTP(SMTP_SERVER, SMTP_PORT)\n",
    "        server.starttls()\n",
    "        server.login(EMAIL_ADDRESS, EMAIL_PASSWORD)\n",
    "\n",
    "        email_msg = compose_email(subject, to_email, message)\n",
    "\n",
    "        server.sendmail(EMAIL_ADDRESS, to_email, email_msg)\n",
    "        server.quit()\n",
    "        print(\"Email sent successfully\")\n",
    "    except Exception as e:\n",
    "        print(f\"An error occurred: {str(e)}\")"
   ]
  },
  {
   "cell_type": "code",
   "execution_count": 9,
   "id": "e130d106",
   "metadata": {},
   "outputs": [
    {
     "name": "stdout",
     "output_type": "stream",
     "text": [
      "Email sent successfully\n"
     ]
    }
   ],
   "source": [
    "to_email = 'kommageethika95@gmail.com'\n",
    " #'recipient@example.com'\n",
    "subject = 'Hello!'\n",
    "message = 'This is an automated email sent from Python.'\n",
    "\n",
    "send_email(to_email, subject, message)"
   ]
  },
  {
   "cell_type": "code",
   "execution_count": null,
   "id": "88420e50",
   "metadata": {},
   "outputs": [],
   "source": []
  },
  {
   "cell_type": "code",
   "execution_count": null,
   "id": "8162a76f",
   "metadata": {},
   "outputs": [],
   "source": []
  },
  {
   "cell_type": "code",
   "execution_count": null,
   "id": "31e60682",
   "metadata": {},
   "outputs": [],
   "source": []
  },
  {
   "cell_type": "code",
   "execution_count": null,
   "id": "5f66fe30",
   "metadata": {},
   "outputs": [],
   "source": []
  }
 ],
 "metadata": {
  "kernelspec": {
   "display_name": "Python 3 (ipykernel)",
   "language": "python",
   "name": "python3"
  },
  "language_info": {
   "codemirror_mode": {
    "name": "ipython",
    "version": 3
   },
   "file_extension": ".py",
   "mimetype": "text/x-python",
   "name": "python",
   "nbconvert_exporter": "python",
   "pygments_lexer": "ipython3",
   "version": "3.12.4"
  }
 },
 "nbformat": 4,
 "nbformat_minor": 5
}
